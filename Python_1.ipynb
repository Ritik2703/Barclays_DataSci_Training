{
 "cells": [
  {
   "cell_type": "code",
   "execution_count": 8,
   "metadata": {},
   "outputs": [
    {
     "name": "stdout",
     "output_type": "stream",
     "text": [
      "barclays\n",
      "training\n",
      "ba3\n"
     ]
    }
   ],
   "source": [
    "# for loop\n",
    "l = [\"barclays\", \"training\", \"ba3\"]\n",
    "for i in l:\n",
    "    print(i)"
   ]
  },
  {
   "cell_type": "code",
   "execution_count": 9,
   "metadata": {},
   "outputs": [
    {
     "name": "stdout",
     "output_type": "stream",
     "text": [
      "Good Morning\n",
      "Good Morning\n",
      "Good Morning\n"
     ]
    }
   ],
   "source": [
    "# while loop\n",
    "count = 0\n",
    "while (count < 3):   \n",
    "    count = count + 1\n",
    "    print(\"Good Morning\")"
   ]
  },
  {
   "cell_type": "code",
   "execution_count": 10,
   "metadata": {},
   "outputs": [
    {
     "name": "stdout",
     "output_type": "stream",
     "text": [
      "Ritik Barclays\n"
     ]
    }
   ],
   "source": [
    "# user - defined function\n",
    "def e_details(e_name, c_name): \n",
    "     print(e_name, c_name) \n",
    "            \n",
    "e_details(e_name ='Ritik', c_name ='Barclays')"
   ]
  },
  {
   "cell_type": "code",
   "execution_count": 12,
   "metadata": {},
   "outputs": [
    {
     "name": "stdout",
     "output_type": "stream",
     "text": [
      "49\n",
      "343\n"
     ]
    }
   ],
   "source": [
    "# lambda function\n",
    "l_square = lambda y: y*y\n",
    "l_cube = lambda y: y*y*y\n",
    "\n",
    "print(l_square(7))\n",
    "print(l_cube(7))"
   ]
  },
  {
   "cell_type": "code",
   "execution_count": 13,
   "metadata": {},
   "outputs": [
    {
     "name": "stdout",
     "output_type": "stream",
     "text": [
      "line1 line2 line3\n",
      "\\\n",
      "'\n",
      "\"\n",
      "\u0007\n",
      "Hello \b World!\n",
      "Hello \f",
      " World!\n",
      "Hello \n",
      " World!\n",
      "Hello \r",
      " World!\n",
      "Hello \t World!\n",
      "Hello \u000b",
      " World!\n"
     ]
    }
   ],
   "source": [
    "# Escape Sequences\n",
    "\n",
    "print(\"line1 \\\n",
    "line2 \\\n",
    "line3\")\n",
    "\n",
    "print(\"\\\\\")\n",
    "\n",
    "print('\\'')\n",
    "\n",
    "print(\"\\\"\")\n",
    "\n",
    "print(\"\\a\")\n",
    "\n",
    "print(\"Hello \\b World!\")\n",
    "\n",
    "print(\"Hello \\f World!\")\n",
    "\n",
    "print(\"Hello \\n World!\")\n",
    "\n",
    "print(\"Hello \\r World!\")\n",
    "\n",
    "print(\"Hello \\t World!\")\n",
    "\n",
    "print(\"Hello \\v World!\")"
   ]
  },
  {
   "cell_type": "code",
   "execution_count": 15,
   "metadata": {},
   "outputs": [
    {
     "name": "stdout",
     "output_type": "stream",
     "text": [
      "['a', 'e', 'i', 'h', 'a', 'a', 'e', 'a', 'm', 'a']\n"
     ]
    }
   ],
   "source": [
    "# Regex\n",
    "\n",
    "import re\n",
    "\n",
    "txt = \"Hare Krishna Hare Rama\"\n",
    "\n",
    "#Find all lower case characters alphabetically between \"a\" and \"m\":\n",
    "x = re.findall(\"[a-m]\", txt)\n",
    "print(x)"
   ]
  },
  {
   "cell_type": "code",
   "execution_count": 16,
   "metadata": {},
   "outputs": [
    {
     "name": "stdout",
     "output_type": "stream",
     "text": [
      "['2', '6']\n"
     ]
    }
   ],
   "source": [
    "txt = \"Barclays training day 26\"\n",
    "\n",
    "#Find all digit characters:\n",
    "\n",
    "x = re.findall(\"\\d\", txt)\n",
    "print(x)"
   ]
  },
  {
   "cell_type": "code",
   "execution_count": 17,
   "metadata": {},
   "outputs": [
    {
     "name": "stdout",
     "output_type": "stream",
     "text": [
      "Yes, the string starts with 'hello'\n"
     ]
    }
   ],
   "source": [
    "txt = \"hello Barclays\"\n",
    "\n",
    "#Check if the string starts with 'hello':\n",
    "\n",
    "x = re.findall(\"^hello\", txt)\n",
    "if x:\n",
    "  print(\"Yes, the string starts with 'hello'\")\n",
    "else:\n",
    "  print(\"No match\")\n"
   ]
  },
  {
   "cell_type": "code",
   "execution_count": 18,
   "metadata": {},
   "outputs": [
    {
     "name": "stdout",
     "output_type": "stream",
     "text": [
      "['ar', 'ar']\n",
      "Yes, there is at least one match!\n"
     ]
    }
   ],
   "source": [
    "txt = \"Hare Krishna Hare Rama\"\n",
    "\n",
    "#Check if the string contains \"ai\" followed by 0 or more \"x\" characters:\n",
    "\n",
    "x = re.findall(\"arx*\", txt)\n",
    "\n",
    "print(x)\n",
    "\n",
    "if x:\n",
    "  print(\"Yes, there is at least one match!\")\n",
    "else:\n",
    "  print(\"No match\")\n"
   ]
  },
  {
   "cell_type": "code",
   "execution_count": null,
   "metadata": {},
   "outputs": [],
   "source": []
  }
 ],
 "metadata": {
  "kernelspec": {
   "display_name": "Python 3",
   "language": "python",
   "name": "python3"
  },
  "language_info": {
   "codemirror_mode": {
    "name": "ipython",
    "version": 3
   },
   "file_extension": ".py",
   "mimetype": "text/x-python",
   "name": "python",
   "nbconvert_exporter": "python",
   "pygments_lexer": "ipython3",
   "version": "3.8.3"
  }
 },
 "nbformat": 4,
 "nbformat_minor": 4
}
