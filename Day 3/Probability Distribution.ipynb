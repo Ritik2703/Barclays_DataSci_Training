{
 "cells": [
  {
   "cell_type": "markdown",
   "metadata": {},
   "source": [
    "# Binomial Distribution Case Study\n",
    "A bike rental company observed that 5% of their bikes are getting into breakdown due to various reasons. On a specific day 100 bikes are rented.\n",
    "Calculate \n",
    "1. Probability that exactly 10 customers return their bike due to breakdown\n",
    "2. Probability that a maximum of 10 customers return their bike due to breakdown\n",
    "3. Probability that more than 10 customers return their bike\n"
   ]
  },
  {
   "cell_type": "code",
   "execution_count": 1,
   "metadata": {},
   "outputs": [],
   "source": [
    "from scipy import stats"
   ]
  },
  {
   "cell_type": "code",
   "execution_count": 4,
   "metadata": {},
   "outputs": [
    {
     "data": {
      "text/plain": [
       "0.016715884095931225"
      ]
     },
     "execution_count": 4,
     "metadata": {},
     "output_type": "execute_result"
    }
   ],
   "source": [
    "#question-1\n",
    "stats.binom.pmf(10,100,0.05)"
   ]
  },
  {
   "cell_type": "code",
   "execution_count": 5,
   "metadata": {},
   "outputs": [
    {
     "data": {
      "text/plain": [
       "0.9885275899325152"
      ]
     },
     "execution_count": 5,
     "metadata": {},
     "output_type": "execute_result"
    }
   ],
   "source": [
    "#Question-2\n",
    "stats.binom.cdf(10,100,0.05)"
   ]
  },
  {
   "cell_type": "code",
   "execution_count": 6,
   "metadata": {},
   "outputs": [
    {
     "data": {
      "text/plain": [
       "0.011472410067484784"
      ]
     },
     "execution_count": 6,
     "metadata": {},
     "output_type": "execute_result"
    }
   ],
   "source": [
    "#Question-3\n",
    "1-stats.binom.cdf(10,100,0.05)"
   ]
  },
  {
   "cell_type": "code",
   "execution_count": 8,
   "metadata": {},
   "outputs": [
    {
     "name": "stdout",
     "output_type": "stream",
     "text": [
      "5.0\n",
      "4.75\n"
     ]
    }
   ],
   "source": [
    "#(a) Average of a binomial distribution is given by n * p \n",
    "#(b) Variance of the binomial distribution is given by n * p * (1 − p) \n",
    "mean, var = stats.binom.stats(100,0.05)\n",
    "print(mean)\n",
    "print(var)"
   ]
  },
  {
   "cell_type": "markdown",
   "metadata": {},
   "source": [
    "# Poisson Distribution Case Study\n",
    "Number of people visiting the hospital are 50 people/hour\n",
    "1. Calculate the probability, if maximum people are 40\n",
    "2. Calculate the probability that the people exceed 100 in 2 hours span"
   ]
  },
  {
   "cell_type": "code",
   "execution_count": 9,
   "metadata": {},
   "outputs": [
    {
     "data": {
      "text/plain": [
       "0.08607000011796094"
      ]
     },
     "execution_count": 9,
     "metadata": {},
     "output_type": "execute_result"
    }
   ],
   "source": [
    "stats.poisson.cdf(40,50)"
   ]
  },
  {
   "cell_type": "code",
   "execution_count": 10,
   "metadata": {},
   "outputs": [
    {
     "data": {
      "text/plain": [
       "0.4734378014700015"
      ]
     },
     "execution_count": 10,
     "metadata": {},
     "output_type": "execute_result"
    }
   ],
   "source": [
    "1-stats.poisson.cdf(100,100)"
   ]
  },
  {
   "cell_type": "markdown",
   "metadata": {},
   "source": [
    "# Exponential Distribution Case Study\n",
    "The time-to-failure of an avionic system follows an exponential distribution with a mean time between  failures (MTBF) of 1000 hours. \n",
    "Calculate  \n",
    "1. The probability that the system will fail before 1000 hours.  \n",
    "2. The probability that it will not fail up to 2000 hours.  \n",
    "3. The time by which 10% of the system will fail (i.e., calculate P10 life).  \n",
    "We solve each of these as follows: Since time-to-failure is 1000 hours, so l is 1/1000. "
   ]
  },
  {
   "cell_type": "code",
   "execution_count": 11,
   "metadata": {},
   "outputs": [
    {
     "data": {
      "text/plain": [
       "0.6321201909489326"
      ]
     },
     "execution_count": 11,
     "metadata": {},
     "output_type": "execute_result"
    }
   ],
   "source": [
    "#Question-1\n",
    "stats.expon.cdf(1000, loc = 1/1000, scale = 1000)"
   ]
  },
  {
   "cell_type": "code",
   "execution_count": 12,
   "metadata": {},
   "outputs": [
    {
     "data": {
      "text/plain": [
       "0.13533541857196352"
      ]
     },
     "execution_count": 12,
     "metadata": {},
     "output_type": "execute_result"
    }
   ],
   "source": [
    "#Question-2\n",
    "1 - stats.expon.cdf(2000,  loc = 1/1000,  scale = 1000)  "
   ]
  },
  {
   "cell_type": "code",
   "execution_count": 13,
   "metadata": {},
   "outputs": [
    {
     "data": {
      "text/plain": [
       "105.36151565782632"
      ]
     },
     "execution_count": 13,
     "metadata": {},
     "output_type": "execute_result"
    }
   ],
   "source": [
    "#Question-3\n",
    "stats.expon.ppf(.1,  loc = 1/1000,  scale = 1000)  "
   ]
  },
  {
   "cell_type": "code",
   "execution_count": null,
   "metadata": {},
   "outputs": [],
   "source": []
  }
 ],
 "metadata": {
  "kernelspec": {
   "display_name": "Python 3",
   "language": "python",
   "name": "python3"
  },
  "language_info": {
   "codemirror_mode": {
    "name": "ipython",
    "version": 3
   },
   "file_extension": ".py",
   "mimetype": "text/x-python",
   "name": "python",
   "nbconvert_exporter": "python",
   "pygments_lexer": "ipython3",
   "version": "3.7.4"
  }
 },
 "nbformat": 4,
 "nbformat_minor": 2
}
